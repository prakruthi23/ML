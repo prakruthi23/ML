{
  "nbformat": 4,
  "nbformat_minor": 0,
  "metadata": {
    "colab": {
      "provenance": []
    },
    "kernelspec": {
      "name": "python3",
      "display_name": "Python 3"
    },
    "language_info": {
      "name": "python"
    }
  },
  "cells": [
    {
      "cell_type": "code",
      "execution_count": 4,
      "metadata": {
        "colab": {
          "base_uri": "https://localhost:8080/",
          "height": 0
        },
        "id": "zukFzpaDg0-Y",
        "outputId": "bb790ba8-9d94-4fa9-c2d4-de8885321376"
      },
      "outputs": [
        {
          "output_type": "stream",
          "name": "stdout",
          "text": [
            "Information of all columns:\n",
            "<class 'pandas.core.frame.DataFrame'>\n",
            "RangeIndex: 5000 entries, 0 to 4999\n",
            "Data columns (total 7 columns):\n",
            " #   Column                        Non-Null Count  Dtype  \n",
            "---  ------                        --------------  -----  \n",
            " 0   Avg. Area Income              5000 non-null   float64\n",
            " 1   Avg. Area House Age           5000 non-null   float64\n",
            " 2   Avg. Area Number of Rooms     5000 non-null   float64\n",
            " 3   Avg. Area Number of Bedrooms  5000 non-null   float64\n",
            " 4   Area Population               5000 non-null   float64\n",
            " 5   Price                         5000 non-null   float64\n",
            " 6   Address                       5000 non-null   object \n",
            "dtypes: float64(6), object(1)\n",
            "memory usage: 273.6+ KB\n",
            "None\n",
            "\n",
            "Statistical information of numerical columns:\n",
            "       Avg. Area Income  Avg. Area House Age  Avg. Area Number of Rooms  \\\n",
            "count       5000.000000          5000.000000                5000.000000   \n",
            "mean       68583.108984             5.977222                   6.987792   \n",
            "std        10657.991214             0.991456                   1.005833   \n",
            "min        17796.631190             2.644304                   3.236194   \n",
            "25%        61480.562390             5.322283                   6.299250   \n",
            "50%        68804.286405             5.970429                   7.002902   \n",
            "75%        75783.338665             6.650808                   7.665871   \n",
            "max       107701.748400             9.519088                  10.759588   \n",
            "\n",
            "       Avg. Area Number of Bedrooms  Area Population         Price  \n",
            "count                   5000.000000      5000.000000  5.000000e+03  \n",
            "mean                       3.981330     36163.516039  1.232073e+06  \n",
            "std                        1.234137      9925.650114  3.531176e+05  \n",
            "min                        2.000000       172.610686  1.593866e+04  \n",
            "25%                        3.140000     29403.928700  9.975771e+05  \n",
            "50%                        4.050000     36199.406690  1.232669e+06  \n",
            "75%                        4.490000     42861.290770  1.471210e+06  \n",
            "max                        6.500000     69621.713380  2.469066e+06  \n",
            "\n",
            "Count of unique labels for 'Ocean Proximity' column:\n",
            "\n",
            "Columns with missing values:\n",
            "Series([], dtype: int64)\n"
          ]
        }
      ],
      "source": [
        "import pandas as pd\n",
        "\n",
        "# i. Load .csv file into the DataFrame\n",
        "housing_df = pd.read_csv(\"housing.csv\")\n",
        "\n",
        "# ii. Display information of all columns\n",
        "print(\"Information of all columns:\")\n",
        "print(housing_df.info())\n",
        "\n",
        "# iii. Display statistical information of all numerical columns\n",
        "print(\"\\nStatistical information of numerical columns:\")\n",
        "print(housing_df.describe())\n",
        "\n",
        "# iv. Display the count of unique labels for \"Ocean Proximity\" column\n",
        "print(\"\\nCount of unique labels for 'Ocean Proximity' column:\")\n",
        "#print(housing_df['ocean_proximity'].value_counts())\n",
        "\n",
        "# v. Display which attributes (columns) in the dataset have missing values count greater than zero\n",
        "print(\"\\nColumns with missing values:\")\n",
        "missing_values = housing_df.isnull().sum()\n",
        "print(missing_values[missing_values > 0])\n",
        "\n"
      ]
    },
    {
      "cell_type": "code",
      "source": [
        "import pandas as pd\n",
        "import numpy as np\n",
        "\n",
        "# Load the datasets\n",
        "diabetes_df = pd.read_csv(\"/content/Dataset of Diabetes  (1).csv\")\n",
        "adult_income_df = pd.read_csv(\"/content/adult.csv\")\n",
        "\n",
        "# Check for missing values\n",
        "print(\"Missing values in Diabetes dataset:\")\n",
        "print(diabetes_df.isnull().sum())\n",
        "\n",
        "print(\"\\nMissing values in Adult Income dataset:\")\n",
        "print(adult_income_df.isnull().sum())\n",
        "\n",
        "# Handle missing values by filling with the median for numerical columns ONLY\n",
        "# Select only numeric columns for median imputation\n",
        "numeric_cols_diabetes = diabetes_df.select_dtypes(include=np.number).columns # Changed pd.np.number to np.number\n",
        "numeric_cols_adult = adult_income_df.select_dtypes(include=np.number).columns # Changed pd.np.number to np.number\n",
        "#The above 2 lines were changed to select only the numerical columns for imputation\n",
        "\n",
        "diabetes_df[numeric_cols_diabetes] = diabetes_df[numeric_cols_diabetes].fillna(diabetes_df[numeric_cols_diabetes].median())\n",
        "adult_income_df[numeric_cols_adult] = adult_income_df[numeric_cols_adult].fillna(adult_income_df[numeric_cols_adult].median())"
      ],
      "metadata": {
        "colab": {
          "base_uri": "https://localhost:8080/",
          "height": 0
        },
        "id": "b8UZ8DEhhUIl",
        "outputId": "205669b2-d845-40cb-b5c4-ad4953ba1fae"
      },
      "execution_count": 5,
      "outputs": [
        {
          "output_type": "stream",
          "name": "stdout",
          "text": [
            "Missing values in Diabetes dataset:\n",
            "ID           0\n",
            "No_Pation    0\n",
            "Gender       0\n",
            "AGE          0\n",
            "Urea         0\n",
            "Cr           0\n",
            "HbA1c        0\n",
            "Chol         0\n",
            "TG           0\n",
            "HDL          0\n",
            "LDL          0\n",
            "VLDL         0\n",
            "BMI          0\n",
            "CLASS        0\n",
            "dtype: int64\n",
            "\n",
            "Missing values in Adult Income dataset:\n",
            "age                0\n",
            "workclass          0\n",
            "fnlwgt             0\n",
            "education          0\n",
            "educational-num    0\n",
            "marital-status     0\n",
            "occupation         0\n",
            "relationship       0\n",
            "race               0\n",
            "gender             0\n",
            "capital-gain       0\n",
            "capital-loss       0\n",
            "hours-per-week     0\n",
            "native-country     0\n",
            "income             0\n",
            "dtype: int64\n"
          ]
        }
      ]
    },
    {
      "cell_type": "code",
      "source": [
        "import pandas as pd\n",
        "from sklearn.preprocessing import LabelEncoder\n",
        "\n",
        "# Load the dataset\n",
        "diabetes_df = pd.read_csv(\"/content/Dataset of Diabetes  (1).csv\")\n",
        "\n",
        "# Check the first few rows of the dataset\n",
        "print(\"Diabetes dataset (first few rows):\")\n",
        "print(diabetes_df.head())\n",
        "\n",
        "# Step 1: Categorize the 'BMI' column into bins (Low, Normal, High)\n",
        "bins = [0, 18.5, 24.9, 40]  # BMI categories: Low (<18.5), Normal (18.5-24.9), High (>24.9)\n",
        "labels = ['Low', 'Normal', 'High']\n",
        "diabetes_df['BMI_Category'] = pd.cut(diabetes_df['BMI'], bins=bins, labels=labels, right=False)\n",
        "\n",
        "# Step 2: One-Hot Encoding for 'BMI_Category'\n",
        "diabetes_df = pd.get_dummies(diabetes_df, columns=['BMI_Category'])\n",
        "\n",
        "# Step 3: Encoding 'Gender' column (if present)\n",
        "if 'Gender' in diabetes_df.columns:\n",
        "    label_encoder = LabelEncoder()\n",
        "    diabetes_df['Gender'] = label_encoder.fit_transform(diabetes_df['Gender'])\n",
        "\n",
        "# Display the modified dataset\n",
        "print(\"\\nDiabetes dataset after encoding:\")\n",
        "print(diabetes_df.head())"
      ],
      "metadata": {
        "colab": {
          "base_uri": "https://localhost:8080/",
          "height": 0
        },
        "id": "N6G57DklhYkU",
        "outputId": "ff128151-8d25-4163-ac05-74e97ffb52f4"
      },
      "execution_count": 6,
      "outputs": [
        {
          "output_type": "stream",
          "name": "stdout",
          "text": [
            "Diabetes dataset (first few rows):\n",
            "    ID  No_Pation Gender  AGE  Urea  Cr  HbA1c  Chol   TG  HDL  LDL  VLDL  \\\n",
            "0  502      17975      F   50   4.7  46    4.9   4.2  0.9  2.4  1.4   0.5   \n",
            "1  735      34221      M   26   4.5  62    4.9   3.7  1.4  1.1  2.1   0.6   \n",
            "2  420      47975      F   50   4.7  46    4.9   4.2  0.9  2.4  1.4   0.5   \n",
            "3  680      87656      F   50   4.7  46    4.9   4.2  0.9  2.4  1.4   0.5   \n",
            "4  504      34223      M   33   7.1  46    4.9   4.9  1.0  0.8  2.0   0.4   \n",
            "\n",
            "    BMI CLASS  \n",
            "0  24.0     N  \n",
            "1  23.0     N  \n",
            "2  24.0     N  \n",
            "3  24.0     N  \n",
            "4  21.0     N  \n",
            "\n",
            "Diabetes dataset after encoding:\n",
            "    ID  No_Pation  Gender  AGE  Urea  Cr  HbA1c  Chol   TG  HDL  LDL  VLDL  \\\n",
            "0  502      17975       0   50   4.7  46    4.9   4.2  0.9  2.4  1.4   0.5   \n",
            "1  735      34221       1   26   4.5  62    4.9   3.7  1.4  1.1  2.1   0.6   \n",
            "2  420      47975       0   50   4.7  46    4.9   4.2  0.9  2.4  1.4   0.5   \n",
            "3  680      87656       0   50   4.7  46    4.9   4.2  0.9  2.4  1.4   0.5   \n",
            "4  504      34223       1   33   7.1  46    4.9   4.9  1.0  0.8  2.0   0.4   \n",
            "\n",
            "    BMI CLASS  BMI_Category_Low  BMI_Category_Normal  BMI_Category_High  \n",
            "0  24.0     N             False                 True              False  \n",
            "1  23.0     N             False                 True              False  \n",
            "2  24.0     N             False                 True              False  \n",
            "3  24.0     N             False                 True              False  \n",
            "4  21.0     N             False                 True              False  \n"
          ]
        }
      ]
    }
  ]
}